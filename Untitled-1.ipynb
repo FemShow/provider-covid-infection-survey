{
 "cells": [
  {
   "cell_type": "code",
   "execution_count": 2,
   "metadata": {},
   "outputs": [
    {
     "name": "stdout",
     "output_type": "stream",
     "text": [
      "Requirement already satisfied: csvcubed in /Library/Frameworks/Python.framework/Versions/3.10/lib/python3.10/site-packages (0.2.0)\n",
      "Requirement already satisfied: appdirs<2.0.0,>=1.4.4 in /Library/Frameworks/Python.framework/Versions/3.10/lib/python3.10/site-packages (from csvcubed) (1.4.4)\n",
      "Requirement already satisfied: requests<3.0.0,>=2.27.1 in /Library/Frameworks/Python.framework/Versions/3.10/lib/python3.10/site-packages (from csvcubed) (2.28.2)\n",
      "Requirement already satisfied: requests-cache<0.10.0,>=0.9.3 in /Library/Frameworks/Python.framework/Versions/3.10/lib/python3.10/site-packages (from csvcubed) (0.9.8)\n",
      "Requirement already satisfied: python-dateutil<3.0.0,>=2.8.2 in /Library/Frameworks/Python.framework/Versions/3.10/lib/python3.10/site-packages (from csvcubed) (2.8.2)\n",
      "Requirement already satisfied: treelib<2.0.0,>=1.6.1 in /Library/Frameworks/Python.framework/Versions/3.10/lib/python3.10/site-packages (from csvcubed) (1.6.1)\n",
      "Requirement already satisfied: pandas<2.0.0,>=1.3.3 in /Library/Frameworks/Python.framework/Versions/3.10/lib/python3.10/site-packages (from csvcubed) (1.4.3)\n",
      "Requirement already satisfied: uritemplate<5.0.0,>=4.1.1 in /Library/Frameworks/Python.framework/Versions/3.10/lib/python3.10/site-packages (from csvcubed) (4.1.1)\n",
      "Requirement already satisfied: csvcubed-models==0.1.6 in /Library/Frameworks/Python.framework/Versions/3.10/lib/python3.10/site-packages (from csvcubed) (0.1.6)\n",
      "Requirement already satisfied: jsonschema<5.0.0,>=4.4.0 in /Users/femisokoya/Library/Python/3.10/lib/python/site-packages (from csvcubed) (4.9.1)\n",
      "Requirement already satisfied: csvcubed-pydantic>=1.9.0 in /Library/Frameworks/Python.framework/Versions/3.10/lib/python3.10/site-packages (from csvcubed) (1.9.0)\n",
      "Requirement already satisfied: click>=8.0.0 in /Library/Frameworks/Python.framework/Versions/3.10/lib/python3.10/site-packages (from csvcubed) (8.1.3)\n",
      "Requirement already satisfied: rdflib>=6.0.0 in /Library/Frameworks/Python.framework/Versions/3.10/lib/python3.10/site-packages (from csvcubed-models==0.1.6->csvcubed) (6.2.0)\n",
      "Requirement already satisfied: unidecode in /Library/Frameworks/Python.framework/Versions/3.10/lib/python3.10/site-packages (from csvcubed-models==0.1.6->csvcubed) (1.3.6)\n",
      "Requirement already satisfied: typing-extensions>=3.7.4.3 in /Library/Frameworks/Python.framework/Versions/3.10/lib/python3.10/site-packages (from csvcubed-pydantic>=1.9.0->csvcubed) (4.4.0)\n",
      "Requirement already satisfied: attrs>=17.4.0 in /Users/femisokoya/Library/Python/3.10/lib/python/site-packages (from jsonschema<5.0.0,>=4.4.0->csvcubed) (22.1.0)\n",
      "Requirement already satisfied: pyrsistent!=0.17.0,!=0.17.1,!=0.17.2,>=0.14.0 in /Users/femisokoya/Library/Python/3.10/lib/python/site-packages (from jsonschema<5.0.0,>=4.4.0->csvcubed) (0.18.1)\n",
      "Requirement already satisfied: pytz>=2020.1 in /Library/Frameworks/Python.framework/Versions/3.10/lib/python3.10/site-packages (from pandas<2.0.0,>=1.3.3->csvcubed) (2022.1)\n",
      "Requirement already satisfied: numpy>=1.21.0 in /Library/Frameworks/Python.framework/Versions/3.10/lib/python3.10/site-packages (from pandas<2.0.0,>=1.3.3->csvcubed) (1.23.1)\n",
      "Requirement already satisfied: six>=1.5 in /Library/Frameworks/Python.framework/Versions/3.10/lib/python3.10/site-packages (from python-dateutil<3.0.0,>=2.8.2->csvcubed) (1.16.0)\n",
      "Requirement already satisfied: certifi>=2017.4.17 in /Library/Frameworks/Python.framework/Versions/3.10/lib/python3.10/site-packages (from requests<3.0.0,>=2.27.1->csvcubed) (2022.12.7)\n",
      "Requirement already satisfied: charset-normalizer<4,>=2 in /Library/Frameworks/Python.framework/Versions/3.10/lib/python3.10/site-packages (from requests<3.0.0,>=2.27.1->csvcubed) (3.0.1)\n",
      "Requirement already satisfied: idna<4,>=2.5 in /Library/Frameworks/Python.framework/Versions/3.10/lib/python3.10/site-packages (from requests<3.0.0,>=2.27.1->csvcubed) (3.4)\n",
      "Requirement already satisfied: urllib3<1.27,>=1.21.1 in /Library/Frameworks/Python.framework/Versions/3.10/lib/python3.10/site-packages (from requests<3.0.0,>=2.27.1->csvcubed) (1.26.14)\n",
      "Requirement already satisfied: url-normalize>=1.4 in /Library/Frameworks/Python.framework/Versions/3.10/lib/python3.10/site-packages (from requests-cache<0.10.0,>=0.9.3->csvcubed) (1.4.3)\n",
      "Requirement already satisfied: cattrs>=22.2 in /Library/Frameworks/Python.framework/Versions/3.10/lib/python3.10/site-packages (from requests-cache<0.10.0,>=0.9.3->csvcubed) (22.2.0)\n",
      "Requirement already satisfied: future in /Library/Frameworks/Python.framework/Versions/3.10/lib/python3.10/site-packages (from treelib<2.0.0,>=1.6.1->csvcubed) (0.18.3)\n",
      "Requirement already satisfied: exceptiongroup in /Library/Frameworks/Python.framework/Versions/3.10/lib/python3.10/site-packages (from cattrs>=22.2->requests-cache<0.10.0,>=0.9.3->csvcubed) (1.1.0)\n",
      "Requirement already satisfied: pyparsing in /Library/Frameworks/Python.framework/Versions/3.10/lib/python3.10/site-packages (from rdflib>=6.0.0->csvcubed-models==0.1.6->csvcubed) (3.0.9)\n",
      "Requirement already satisfied: setuptools in /Library/Frameworks/Python.framework/Versions/3.10/lib/python3.10/site-packages (from rdflib>=6.0.0->csvcubed-models==0.1.6->csvcubed) (58.1.0)\n",
      "Requirement already satisfied: isodate in /Library/Frameworks/Python.framework/Versions/3.10/lib/python3.10/site-packages (from rdflib>=6.0.0->csvcubed-models==0.1.6->csvcubed) (0.6.1)\n",
      "Note: you may need to restart the kernel to use updated packages.\n"
     ]
    }
   ],
   "source": [
    "pip install csvcubed"
   ]
  },
  {
   "cell_type": "code",
   "execution_count": 5,
   "metadata": {},
   "outputs": [
    {
     "data": {
      "text/plain": [
       "'/Users/femisokoya/Documents/GitHub/application-profile'"
      ]
     },
     "execution_count": 5,
     "metadata": {},
     "output_type": "execute_result"
    }
   ],
   "source": [
    "pwd"
   ]
  }
 ],
 "metadata": {
  "kernelspec": {
   "display_name": "Python 3.10.5 64-bit",
   "language": "python",
   "name": "python3"
  },
  "language_info": {
   "codemirror_mode": {
    "name": "ipython",
    "version": 3
   },
   "file_extension": ".py",
   "mimetype": "text/x-python",
   "name": "python",
   "nbconvert_exporter": "python",
   "pygments_lexer": "ipython3",
   "version": "3.10.5"
  },
  "orig_nbformat": 4,
  "vscode": {
   "interpreter": {
    "hash": "aee8b7b246df8f9039afb4144a1f6fd8d2ca17a180786b69acc140d282b71a49"
   }
  }
 },
 "nbformat": 4,
 "nbformat_minor": 2
}
